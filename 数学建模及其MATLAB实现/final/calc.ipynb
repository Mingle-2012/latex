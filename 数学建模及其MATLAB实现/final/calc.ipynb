{
 "cells": [
  {
   "cell_type": "code",
   "execution_count": 13,
   "metadata": {},
   "outputs": [],
   "source": [
    "from sympy import symbols, Eq, solve, simplify, latex\n",
    "from IPython.display import display, Math"
   ]
  },
  {
   "cell_type": "code",
   "execution_count": 15,
   "metadata": {},
   "outputs": [
    {
     "name": "stdout",
     "output_type": "stream",
     "text": [
      "u = \\frac{s}{\\mu \\theta^{1 - \\alpha} + s}\n"
     ]
    },
    {
     "data": {
      "text/latex": [
       "$\\displaystyle u = \\frac{s}{\\mu \\theta^{1 - \\alpha} + s}$"
      ],
      "text/plain": [
       "<IPython.core.display.Math object>"
      ]
     },
     "metadata": {},
     "output_type": "display_data"
    },
    {
     "name": "stdout",
     "output_type": "stream",
     "text": [
      "v = \\frac{\\mu \\theta \\left(\\kappa + s\\right)}{\\delta \\mu \\theta + \\delta s \\theta^{\\alpha} + \\mu^{2} \\theta^{1 - \\alpha} + \\mu s}\n"
     ]
    },
    {
     "data": {
      "text/latex": [
       "$\\displaystyle v = \\frac{\\mu \\theta \\left(\\kappa + s\\right)}{\\delta \\mu \\theta + \\delta s \\theta^{\\alpha} + \\mu^{2} \\theta^{1 - \\alpha} + \\mu s}$"
      ],
      "text/plain": [
       "<IPython.core.display.Math object>"
      ]
     },
     "metadata": {},
     "output_type": "display_data"
    }
   ],
   "source": [
    "u, v, theta = symbols('u v theta')  # u: 失业率, v: 职位空缺率, theta: 市场紧张度\n",
    "s, mu, alpha, kappa, delta = symbols('s mu alpha kappa delta')  # 模型参数\n",
    "\n",
    "# 定义方程\n",
    "eq1 = Eq(s * (1 - u), mu * theta**(1 - alpha) * u)  # 失业率的稳态方程\n",
    "eq2 = Eq(kappa * (1 - u) + s * (1 - u), mu * theta**(-alpha) * v + delta * v)  # 职位空缺率的稳态方程\n",
    "# eq3 = Eq(theta, v / u)  # 定义市场紧张度\n",
    "\n",
    "# 求解方程组\n",
    "solution = solve([eq1, eq2], [u, v])\n",
    "\n",
    "if isinstance(solution, dict):  # 如果解是字典\n",
    "    latex_solution = {k: latex(simplify(v)) for k, v in solution.items()}\n",
    "    for var, expr in latex_solution.items():\n",
    "        print(f\"{var} = {expr}\")\n",
    "        display(Math(f\"{var} = {expr}\"))\n",
    "elif isinstance(solution, list):  # 如果解是列表\n",
    "    latex_solutions = []\n",
    "    for sol in solution:\n",
    "        latex_solutions.append({k: latex(simplify(v)) for k, v in sol.items()})\n",
    "    for sol in latex_solutions:\n",
    "        for var, expr in sol.items():\n",
    "            print(f\"{var} = {expr}\")\n",
    "            display(Math(f\"{var} = {expr}\"))\n",
    "        print()  # 分隔不同的解\n",
    "else:  # 如果是单个表达式\n",
    "    latex_solution = latex(simplify(solution))\n",
    "    print(f\"{latex_solution}\")\n",
    "    display(Math(latex_solution))"
   ]
  }
 ],
 "metadata": {
  "kernelspec": {
   "display_name": "Python 3",
   "language": "python",
   "name": "python3"
  },
  "language_info": {
   "codemirror_mode": {
    "name": "ipython",
    "version": 3
   },
   "file_extension": ".py",
   "mimetype": "text/x-python",
   "name": "python",
   "nbconvert_exporter": "python",
   "pygments_lexer": "ipython3",
   "version": "3.13.1"
  }
 },
 "nbformat": 4,
 "nbformat_minor": 2
}
